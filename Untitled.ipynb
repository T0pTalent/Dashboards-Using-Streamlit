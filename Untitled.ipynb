{
 "cells": [
  {
   "cell_type": "markdown",
   "id": "924c146b",
   "metadata": {},
   "source": [
    "# [10 Academy](https://www.10academy.org/)\n",
    "\n",
    "> Task: Build a dashboard using streamlit, Flask or any other platform.\n",
    "## Dashboards Using Streamlit\n",
    "__Streamlit__ is an open-source Python library that makes it easy to create and share beautiful, custom web apps for machine learning and data science projects \n",
    "### Snippets from the dashboard  can be shown below.\n",
    "![](images/polarity.png)\n",
    "![](images/topicModel.png)\n",
    "![](images/piechart.png)\n",
    "![](images/BarChart.png)\n",
    "\n",
    "### Reference\n",
    "* [Streamlit documentation](https://docs.streamlit.io/en/stable/)\n",
    "* [towardsdatascience](https://towardsdatascience.com/tagged/streamlit)"
   ]
  },
  {
   "cell_type": "markdown",
   "id": "6bc2cf80",
   "metadata": {},
   "source": []
  }
 ],
 "metadata": {
  "kernelspec": {
   "display_name": "Python 3",
   "language": "python",
   "name": "python3"
  },
  "language_info": {
   "codemirror_mode": {
    "name": "ipython",
    "version": 3
   },
   "file_extension": ".py",
   "mimetype": "text/x-python",
   "name": "python",
   "nbconvert_exporter": "python",
   "pygments_lexer": "ipython3",
   "version": "3.8.5"
  }
 },
 "nbformat": 4,
 "nbformat_minor": 5
}
